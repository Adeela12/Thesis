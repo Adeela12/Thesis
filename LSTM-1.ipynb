{
 "cells": [
  {
   "cell_type": "markdown",
   "metadata": {},
   "source": [
    "# Microwave"
   ]
  },
  {
   "cell_type": "code",
   "execution_count": 1,
   "metadata": {},
   "outputs": [],
   "source": [
    "import pandas as pd\n",
    "from pandas import read_csv\n",
    "from pandas import DataFrame\n",
    "from pandas import concat"
   ]
  },
  {
   "cell_type": "code",
   "execution_count": 2,
   "metadata": {},
   "outputs": [],
   "source": [
    "df = pd.read_csv('C:/Users/Crimson/Desktop/Neural_Net/New_Data/Merge1/all_houses1.csv', header=0, parse_dates=[0], index_col=0, squeeze=True)"
   ]
  },
  {
   "cell_type": "code",
   "execution_count": 3,
   "metadata": {},
   "outputs": [
    {
     "data": {
      "text/html": [
       "<div>\n",
       "<style scoped>\n",
       "    .dataframe tbody tr th:only-of-type {\n",
       "        vertical-align: middle;\n",
       "    }\n",
       "\n",
       "    .dataframe tbody tr th {\n",
       "        vertical-align: top;\n",
       "    }\n",
       "\n",
       "    .dataframe thead th {\n",
       "        text-align: right;\n",
       "    }\n",
       "</style>\n",
       "<table border=\"1\" class=\"dataframe\">\n",
       "  <thead>\n",
       "    <tr style=\"text-align: right;\">\n",
       "      <th></th>\n",
       "      <th>Month</th>\n",
       "      <th>Weekday</th>\n",
       "      <th>Hour</th>\n",
       "      <th>Occupancy</th>\n",
       "      <th>Appliances Owned</th>\n",
       "      <th>Type</th>\n",
       "      <th>Size</th>\n",
       "      <th>Washing Machine</th>\n",
       "      <th>Dishwasher</th>\n",
       "      <th>Television Site</th>\n",
       "      <th>Microwave</th>\n",
       "      <th>Kettle</th>\n",
       "    </tr>\n",
       "  </thead>\n",
       "  <tbody>\n",
       "    <tr>\n",
       "      <th>0</th>\n",
       "      <td>10</td>\n",
       "      <td>2</td>\n",
       "      <td>13</td>\n",
       "      <td>4</td>\n",
       "      <td>23</td>\n",
       "      <td>1</td>\n",
       "      <td>3</td>\n",
       "      <td>0</td>\n",
       "      <td>0</td>\n",
       "      <td>0</td>\n",
       "      <td>0</td>\n",
       "      <td>0</td>\n",
       "    </tr>\n",
       "    <tr>\n",
       "      <th>1</th>\n",
       "      <td>10</td>\n",
       "      <td>2</td>\n",
       "      <td>13</td>\n",
       "      <td>4</td>\n",
       "      <td>23</td>\n",
       "      <td>1</td>\n",
       "      <td>3</td>\n",
       "      <td>0</td>\n",
       "      <td>0</td>\n",
       "      <td>0</td>\n",
       "      <td>0</td>\n",
       "      <td>0</td>\n",
       "    </tr>\n",
       "    <tr>\n",
       "      <th>2</th>\n",
       "      <td>10</td>\n",
       "      <td>2</td>\n",
       "      <td>13</td>\n",
       "      <td>4</td>\n",
       "      <td>23</td>\n",
       "      <td>1</td>\n",
       "      <td>3</td>\n",
       "      <td>0</td>\n",
       "      <td>0</td>\n",
       "      <td>0</td>\n",
       "      <td>0</td>\n",
       "      <td>0</td>\n",
       "    </tr>\n",
       "    <tr>\n",
       "      <th>3</th>\n",
       "      <td>10</td>\n",
       "      <td>2</td>\n",
       "      <td>13</td>\n",
       "      <td>4</td>\n",
       "      <td>23</td>\n",
       "      <td>1</td>\n",
       "      <td>3</td>\n",
       "      <td>0</td>\n",
       "      <td>0</td>\n",
       "      <td>0</td>\n",
       "      <td>0</td>\n",
       "      <td>0</td>\n",
       "    </tr>\n",
       "    <tr>\n",
       "      <th>4</th>\n",
       "      <td>10</td>\n",
       "      <td>2</td>\n",
       "      <td>13</td>\n",
       "      <td>4</td>\n",
       "      <td>23</td>\n",
       "      <td>1</td>\n",
       "      <td>3</td>\n",
       "      <td>0</td>\n",
       "      <td>0</td>\n",
       "      <td>0</td>\n",
       "      <td>0</td>\n",
       "      <td>0</td>\n",
       "    </tr>\n",
       "    <tr>\n",
       "      <th>...</th>\n",
       "      <td>...</td>\n",
       "      <td>...</td>\n",
       "      <td>...</td>\n",
       "      <td>...</td>\n",
       "      <td>...</td>\n",
       "      <td>...</td>\n",
       "      <td>...</td>\n",
       "      <td>...</td>\n",
       "      <td>...</td>\n",
       "      <td>...</td>\n",
       "      <td>...</td>\n",
       "      <td>...</td>\n",
       "    </tr>\n",
       "    <tr>\n",
       "      <th>702492</th>\n",
       "      <td>5</td>\n",
       "      <td>5</td>\n",
       "      <td>13</td>\n",
       "      <td>4</td>\n",
       "      <td>23</td>\n",
       "      <td>1</td>\n",
       "      <td>3</td>\n",
       "      <td>50</td>\n",
       "      <td>0</td>\n",
       "      <td>595</td>\n",
       "      <td>0</td>\n",
       "      <td>0</td>\n",
       "    </tr>\n",
       "    <tr>\n",
       "      <th>702493</th>\n",
       "      <td>5</td>\n",
       "      <td>5</td>\n",
       "      <td>13</td>\n",
       "      <td>4</td>\n",
       "      <td>23</td>\n",
       "      <td>1</td>\n",
       "      <td>3</td>\n",
       "      <td>50</td>\n",
       "      <td>0</td>\n",
       "      <td>583</td>\n",
       "      <td>0</td>\n",
       "      <td>0</td>\n",
       "    </tr>\n",
       "    <tr>\n",
       "      <th>702494</th>\n",
       "      <td>5</td>\n",
       "      <td>5</td>\n",
       "      <td>13</td>\n",
       "      <td>4</td>\n",
       "      <td>23</td>\n",
       "      <td>1</td>\n",
       "      <td>3</td>\n",
       "      <td>50</td>\n",
       "      <td>0</td>\n",
       "      <td>580</td>\n",
       "      <td>0</td>\n",
       "      <td>0</td>\n",
       "    </tr>\n",
       "    <tr>\n",
       "      <th>702495</th>\n",
       "      <td>5</td>\n",
       "      <td>5</td>\n",
       "      <td>14</td>\n",
       "      <td>4</td>\n",
       "      <td>23</td>\n",
       "      <td>1</td>\n",
       "      <td>3</td>\n",
       "      <td>50</td>\n",
       "      <td>0</td>\n",
       "      <td>584</td>\n",
       "      <td>0</td>\n",
       "      <td>0</td>\n",
       "    </tr>\n",
       "    <tr>\n",
       "      <th>702496</th>\n",
       "      <td>5</td>\n",
       "      <td>5</td>\n",
       "      <td>14</td>\n",
       "      <td>4</td>\n",
       "      <td>23</td>\n",
       "      <td>1</td>\n",
       "      <td>3</td>\n",
       "      <td>32</td>\n",
       "      <td>0</td>\n",
       "      <td>376</td>\n",
       "      <td>0</td>\n",
       "      <td>0</td>\n",
       "    </tr>\n",
       "  </tbody>\n",
       "</table>\n",
       "<p>702497 rows × 12 columns</p>\n",
       "</div>"
      ],
      "text/plain": [
       "        Month  Weekday  Hour   Occupancy   Appliances Owned   Type   Size  \\\n",
       "0          10        2    13           4                 23      1      3   \n",
       "1          10        2    13           4                 23      1      3   \n",
       "2          10        2    13           4                 23      1      3   \n",
       "3          10        2    13           4                 23      1      3   \n",
       "4          10        2    13           4                 23      1      3   \n",
       "...       ...      ...   ...         ...                ...    ...    ...   \n",
       "702492      5        5    13           4                 23      1      3   \n",
       "702493      5        5    13           4                 23      1      3   \n",
       "702494      5        5    13           4                 23      1      3   \n",
       "702495      5        5    14           4                 23      1      3   \n",
       "702496      5        5    14           4                 23      1      3   \n",
       "\n",
       "        Washing Machine  Dishwasher  Television Site  Microwave  Kettle  \n",
       "0                     0           0                0          0       0  \n",
       "1                     0           0                0          0       0  \n",
       "2                     0           0                0          0       0  \n",
       "3                     0           0                0          0       0  \n",
       "4                     0           0                0          0       0  \n",
       "...                 ...         ...              ...        ...     ...  \n",
       "702492               50           0              595          0       0  \n",
       "702493               50           0              583          0       0  \n",
       "702494               50           0              580          0       0  \n",
       "702495               50           0              584          0       0  \n",
       "702496               32           0              376          0       0  \n",
       "\n",
       "[702497 rows x 12 columns]"
      ]
     },
     "execution_count": 3,
     "metadata": {},
     "output_type": "execute_result"
    }
   ],
   "source": [
    "df= df.drop(['Time'], axis = 1)\n",
    "df"
   ]
  },
  {
   "cell_type": "code",
   "execution_count": 4,
   "metadata": {},
   "outputs": [],
   "source": [
    "df['Washing Machine'] = (df['Washing Machine']> 1).astype(int)\n",
    "df['Dishwasher'] = (df['Dishwasher'] > 1).astype(int)\n",
    "df['Television Site'] = (df['Television Site'] > 1).astype(int)\n",
    "df['Microwave'] = (df['Microwave'] > 1).astype(int)\n",
    "df['Kettle'] = (df['Kettle'] > 1).astype(int)"
   ]
  },
  {
   "cell_type": "code",
   "execution_count": 5,
   "metadata": {},
   "outputs": [
    {
     "name": "stdout",
     "output_type": "stream",
     "text": [
      "0    491086\n",
      "1    211411\n",
      "Name: Microwave, dtype: int64\n"
     ]
    }
   ],
   "source": [
    "print(df.Microwave.value_counts())"
   ]
  },
  {
   "cell_type": "code",
   "execution_count": 6,
   "metadata": {},
   "outputs": [],
   "source": [
    "import matplotlib.pyplot as plt\n",
    "import seaborn as sns\n",
    "from sklearn.model_selection import train_test_split\n",
    "import numpy as np"
   ]
  },
  {
   "cell_type": "code",
   "execution_count": 7,
   "metadata": {},
   "outputs": [],
   "source": [
    "# Separate input features and target\n",
    "y = df.Microwave\n",
    "X = df.drop('Microwave', axis=1)\n",
    "\n",
    "# setting up testing and training sets\n",
    "# setting up testing and training sets\n",
    "train_X, test_X, train_y, test_y = train_test_split(X, y, test_size=0.25, random_state=27)"
   ]
  },
  {
   "cell_type": "markdown",
   "metadata": {},
   "source": [
    "# LSTM Model"
   ]
  },
  {
   "cell_type": "code",
   "execution_count": 8,
   "metadata": {},
   "outputs": [],
   "source": [
    "import tensorflow as tf\n",
    "from tensorflow import keras\n",
    "from matplotlib import pyplot\n",
    "from tensorflow.keras.models import Sequential\n",
    "from tensorflow.keras.layers import Dense\n",
    "from tensorflow.keras.layers import LSTM\n",
    "from tensorflow.keras.layers import Dropout\n",
    "\n",
    "\n"
   ]
  },
  {
   "cell_type": "code",
   "execution_count": 9,
   "metadata": {},
   "outputs": [
    {
     "name": "stdout",
     "output_type": "stream",
     "text": [
      "(526872, 1, 11) (526872,) (175625, 1, 11) (175625,)\n"
     ]
    }
   ],
   "source": [
    "\n",
    "# reshape input to be 3D [samples, timesteps, features]\n",
    "train_X = train_X.values.reshape((train_X.shape[0], 1, train_X.shape[1]))\n",
    "test_X = test_X.values.reshape((test_X.shape[0], 1, test_X.shape[1]))\n",
    "print(train_X.shape, train_y.shape, test_X.shape, test_y.shape)"
   ]
  },
  {
   "cell_type": "code",
   "execution_count": 10,
   "metadata": {},
   "outputs": [],
   "source": [
    "model = Sequential()\n",
    "model.add(LSTM(128, input_shape=(train_X.shape[1], train_X.shape[2]), activation='relu', return_sequences=True))\n",
    "model.add(LSTM(64, activation='relu'))\n",
    "#model.add(LSTM(32, activation='relu'))\n",
    "model.add(Dense(1, activation='sigmoid', kernel_initializer='normal'))\n",
    "model.compile('adam', 'binary_crossentropy', metrics=['accuracy'])"
   ]
  },
  {
   "cell_type": "code",
   "execution_count": 11,
   "metadata": {},
   "outputs": [
    {
     "name": "stdout",
     "output_type": "stream",
     "text": [
      "Epoch 1/100\n",
      "7318/7318 [==============================] - 12s 2ms/step - loss: 0.3996 - accuracy: 0.8162 - val_loss: 0.3627 - val_accuracy: 0.8316\n",
      "Epoch 2/100\n",
      "7318/7318 [==============================] - 12s 2ms/step - loss: 0.3593 - accuracy: 0.8336 - val_loss: 0.3578 - val_accuracy: 0.8359\n",
      "Epoch 3/100\n",
      "7318/7318 [==============================] - 12s 2ms/step - loss: 0.3530 - accuracy: 0.8366 - val_loss: 0.3581 - val_accuracy: 0.8345\n",
      "Epoch 4/100\n",
      "7318/7318 [==============================] - 13s 2ms/step - loss: 0.3489 - accuracy: 0.8384 - val_loss: 0.3532 - val_accuracy: 0.8367\n",
      "Epoch 5/100\n",
      "7318/7318 [==============================] - 13s 2ms/step - loss: 0.3455 - accuracy: 0.8394 - val_loss: 0.3484 - val_accuracy: 0.8381\n",
      "Epoch 6/100\n",
      "7318/7318 [==============================] - 13s 2ms/step - loss: 0.3428 - accuracy: 0.8402 - val_loss: 0.3453 - val_accuracy: 0.8388\n",
      "Epoch 7/100\n",
      "7318/7318 [==============================] - 13s 2ms/step - loss: 0.3405 - accuracy: 0.8408 - val_loss: 0.3413 - val_accuracy: 0.8395\n",
      "Epoch 8/100\n",
      "7318/7318 [==============================] - 13s 2ms/step - loss: 0.3387 - accuracy: 0.8414 - val_loss: 0.3399 - val_accuracy: 0.8399\n",
      "Epoch 9/100\n",
      "7318/7318 [==============================] - 13s 2ms/step - loss: 0.3370 - accuracy: 0.8418 - val_loss: 0.3388 - val_accuracy: 0.8398\n",
      "Epoch 10/100\n",
      "7318/7318 [==============================] - 13s 2ms/step - loss: 0.3356 - accuracy: 0.8422 - val_loss: 0.3368 - val_accuracy: 0.8402\n",
      "Epoch 11/100\n",
      "7318/7318 [==============================] - 13s 2ms/step - loss: 0.3343 - accuracy: 0.8426 - val_loss: 0.3344 - val_accuracy: 0.8423\n",
      "Epoch 12/100\n",
      "7318/7318 [==============================] - 13s 2ms/step - loss: 0.3331 - accuracy: 0.8427 - val_loss: 0.3332 - val_accuracy: 0.8426\n",
      "Epoch 13/100\n",
      "7318/7318 [==============================] - 13s 2ms/step - loss: 0.3321 - accuracy: 0.8431 - val_loss: 0.3318 - val_accuracy: 0.8434\n",
      "Epoch 14/100\n",
      "7318/7318 [==============================] - 12s 2ms/step - loss: 0.3313 - accuracy: 0.8435 - val_loss: 0.3315 - val_accuracy: 0.8434\n",
      "Epoch 15/100\n",
      "7318/7318 [==============================] - 13s 2ms/step - loss: 0.3304 - accuracy: 0.8437 - val_loss: 0.3307 - val_accuracy: 0.8440\n",
      "Epoch 16/100\n",
      "7318/7318 [==============================] - 12s 2ms/step - loss: 0.3299 - accuracy: 0.8439 - val_loss: 0.3300 - val_accuracy: 0.8440\n",
      "Epoch 17/100\n",
      "7318/7318 [==============================] - 12s 2ms/step - loss: 0.3292 - accuracy: 0.8442 - val_loss: 0.3299 - val_accuracy: 0.8438\n",
      "Epoch 18/100\n",
      "7318/7318 [==============================] - 12s 2ms/step - loss: 0.3286 - accuracy: 0.8445 - val_loss: 0.3292 - val_accuracy: 0.8442\n",
      "Epoch 19/100\n",
      "7318/7318 [==============================] - 12s 2ms/step - loss: 0.3281 - accuracy: 0.8444 - val_loss: 0.3288 - val_accuracy: 0.8444\n",
      "Epoch 20/100\n",
      "7318/7318 [==============================] - 12s 2ms/step - loss: 0.3276 - accuracy: 0.8445 - val_loss: 0.3280 - val_accuracy: 0.8446\n",
      "Epoch 21/100\n",
      "7318/7318 [==============================] - 12s 2ms/step - loss: 0.3272 - accuracy: 0.8448 - val_loss: 0.3281 - val_accuracy: 0.8443\n",
      "Epoch 22/100\n",
      "7318/7318 [==============================] - 12s 2ms/step - loss: 0.3269 - accuracy: 0.8449 - val_loss: 0.3274 - val_accuracy: 0.8446\n",
      "Epoch 23/100\n",
      "7318/7318 [==============================] - 12s 2ms/step - loss: 0.3265 - accuracy: 0.8451 - val_loss: 0.3274 - val_accuracy: 0.8448\n",
      "Epoch 24/100\n",
      "7318/7318 [==============================] - 12s 2ms/step - loss: 0.3262 - accuracy: 0.8451 - val_loss: 0.3272 - val_accuracy: 0.8447\n",
      "Epoch 25/100\n",
      "7318/7318 [==============================] - 12s 2ms/step - loss: 0.3259 - accuracy: 0.8451 - val_loss: 0.3268 - val_accuracy: 0.8448\n",
      "Epoch 26/100\n",
      "7318/7318 [==============================] - 12s 2ms/step - loss: 0.3256 - accuracy: 0.8454 - val_loss: 0.3269 - val_accuracy: 0.8450\n",
      "Epoch 27/100\n",
      "7318/7318 [==============================] - 12s 2ms/step - loss: 0.3254 - accuracy: 0.8455 - val_loss: 0.3266 - val_accuracy: 0.8451\n",
      "Epoch 28/100\n",
      "7318/7318 [==============================] - 12s 2ms/step - loss: 0.3251 - accuracy: 0.8456 - val_loss: 0.3266 - val_accuracy: 0.8451\n",
      "Epoch 29/100\n",
      "7318/7318 [==============================] - 12s 2ms/step - loss: 0.3249 - accuracy: 0.8456 - val_loss: 0.3263 - val_accuracy: 0.8452\n",
      "Epoch 30/100\n",
      "7318/7318 [==============================] - 12s 2ms/step - loss: 0.3247 - accuracy: 0.8458 - val_loss: 0.3264 - val_accuracy: 0.8453\n",
      "Epoch 31/100\n",
      "7318/7318 [==============================] - 12s 2ms/step - loss: 0.3244 - accuracy: 0.8457 - val_loss: 0.3263 - val_accuracy: 0.8450\n",
      "Epoch 32/100\n",
      "7318/7318 [==============================] - 12s 2ms/step - loss: 0.3242 - accuracy: 0.8458 - val_loss: 0.3270 - val_accuracy: 0.8449\n",
      "Epoch 33/100\n",
      "7318/7318 [==============================] - 12s 2ms/step - loss: 0.3240 - accuracy: 0.8459 - val_loss: 0.3267 - val_accuracy: 0.8451\n",
      "Epoch 34/100\n",
      "7318/7318 [==============================] - 12s 2ms/step - loss: 0.3239 - accuracy: 0.8460 - val_loss: 0.3257 - val_accuracy: 0.8454\n",
      "Epoch 35/100\n",
      "7318/7318 [==============================] - 12s 2ms/step - loss: 0.3235 - accuracy: 0.8461 - val_loss: 0.3261 - val_accuracy: 0.8450\n",
      "Epoch 36/100\n",
      "7318/7318 [==============================] - 12s 2ms/step - loss: 0.3233 - accuracy: 0.8462 - val_loss: 0.3256 - val_accuracy: 0.8452\n",
      "Epoch 37/100\n",
      "7318/7318 [==============================] - 12s 2ms/step - loss: 0.3233 - accuracy: 0.8461 - val_loss: 0.3257 - val_accuracy: 0.8452\n",
      "Epoch 38/100\n",
      "7318/7318 [==============================] - 12s 2ms/step - loss: 0.3231 - accuracy: 0.8463 - val_loss: 0.3258 - val_accuracy: 0.8452\n",
      "Epoch 39/100\n",
      "7318/7318 [==============================] - 12s 2ms/step - loss: 0.3229 - accuracy: 0.8464 - val_loss: 0.3268 - val_accuracy: 0.8450\n",
      "Epoch 40/100\n",
      "7318/7318 [==============================] - 12s 2ms/step - loss: 0.3229 - accuracy: 0.8463 - val_loss: 0.3259 - val_accuracy: 0.8452\n",
      "Epoch 41/100\n",
      "7318/7318 [==============================] - 12s 2ms/step - loss: 0.3228 - accuracy: 0.8462 - val_loss: 0.3255 - val_accuracy: 0.8455\n",
      "Epoch 42/100\n",
      "7318/7318 [==============================] - 12s 2ms/step - loss: 0.3225 - accuracy: 0.8463 - val_loss: 0.3259 - val_accuracy: 0.8456\n",
      "Epoch 43/100\n",
      "7318/7318 [==============================] - 12s 2ms/step - loss: 0.3224 - accuracy: 0.8464 - val_loss: 0.3259 - val_accuracy: 0.8453\n",
      "Epoch 44/100\n",
      "7318/7318 [==============================] - 12s 2ms/step - loss: 0.3223 - accuracy: 0.8465 - val_loss: 0.3255 - val_accuracy: 0.8453\n",
      "Epoch 45/100\n",
      "7318/7318 [==============================] - 11s 2ms/step - loss: 0.3222 - accuracy: 0.8465 - val_loss: 0.3255 - val_accuracy: 0.8456\n",
      "Epoch 46/100\n",
      "7318/7318 [==============================] - 12s 2ms/step - loss: 0.3222 - accuracy: 0.8466 - val_loss: 0.3257 - val_accuracy: 0.8451\n",
      "Epoch 47/100\n",
      "7318/7318 [==============================] - 12s 2ms/step - loss: 0.3222 - accuracy: 0.8465 - val_loss: 0.3251 - val_accuracy: 0.8457\n",
      "Epoch 48/100\n",
      "7318/7318 [==============================] - 12s 2ms/step - loss: 0.3219 - accuracy: 0.8466 - val_loss: 0.3260 - val_accuracy: 0.8450\n",
      "Epoch 49/100\n",
      "7318/7318 [==============================] - 12s 2ms/step - loss: 0.3218 - accuracy: 0.8467 - val_loss: 0.3261 - val_accuracy: 0.8450\n",
      "Epoch 50/100\n",
      "7318/7318 [==============================] - 12s 2ms/step - loss: 0.3217 - accuracy: 0.8467 - val_loss: 0.3259 - val_accuracy: 0.8453\n",
      "Epoch 51/100\n",
      "7318/7318 [==============================] - 12s 2ms/step - loss: 0.3218 - accuracy: 0.8465 - val_loss: 0.3261 - val_accuracy: 0.8450\n",
      "Epoch 52/100\n",
      "7318/7318 [==============================] - 12s 2ms/step - loss: 0.3216 - accuracy: 0.8469 - val_loss: 0.3253 - val_accuracy: 0.8451\n",
      "Epoch 53/100\n",
      "7318/7318 [==============================] - 12s 2ms/step - loss: 0.3214 - accuracy: 0.8467 - val_loss: 0.3252 - val_accuracy: 0.8452\n",
      "Epoch 54/100\n",
      "7318/7318 [==============================] - 12s 2ms/step - loss: 0.3214 - accuracy: 0.8468 - val_loss: 0.3262 - val_accuracy: 0.8447\n",
      "Epoch 55/100\n",
      "7318/7318 [==============================] - 12s 2ms/step - loss: 0.3213 - accuracy: 0.8467 - val_loss: 0.3253 - val_accuracy: 0.8450\n",
      "Epoch 56/100\n",
      "7318/7318 [==============================] - 11s 2ms/step - loss: 0.3212 - accuracy: 0.8468 - val_loss: 0.3260 - val_accuracy: 0.8447\n"
     ]
    },
    {
     "name": "stdout",
     "output_type": "stream",
     "text": [
      "Epoch 57/100\n",
      "7318/7318 [==============================] - 12s 2ms/step - loss: 0.3212 - accuracy: 0.8468 - val_loss: 0.3253 - val_accuracy: 0.8450\n",
      "Epoch 58/100\n",
      "7318/7318 [==============================] - 12s 2ms/step - loss: 0.3209 - accuracy: 0.8469 - val_loss: 0.3260 - val_accuracy: 0.8452\n",
      "Epoch 59/100\n",
      "7318/7318 [==============================] - 12s 2ms/step - loss: 0.3209 - accuracy: 0.8469 - val_loss: 0.3261 - val_accuracy: 0.8450\n",
      "Epoch 60/100\n",
      "7318/7318 [==============================] - 12s 2ms/step - loss: 0.3207 - accuracy: 0.8469 - val_loss: 0.3256 - val_accuracy: 0.8455\n",
      "Epoch 61/100\n",
      "7318/7318 [==============================] - 12s 2ms/step - loss: 0.3208 - accuracy: 0.8469 - val_loss: 0.3251 - val_accuracy: 0.8451\n",
      "Epoch 62/100\n",
      "7318/7318 [==============================] - 12s 2ms/step - loss: 0.3208 - accuracy: 0.8470 - val_loss: 0.3251 - val_accuracy: 0.8452\n",
      "Epoch 63/100\n",
      "7318/7318 [==============================] - 12s 2ms/step - loss: 0.3206 - accuracy: 0.8472 - val_loss: 0.3262 - val_accuracy: 0.8451\n",
      "Epoch 64/100\n",
      "7318/7318 [==============================] - 12s 2ms/step - loss: 0.3206 - accuracy: 0.8472 - val_loss: 0.3257 - val_accuracy: 0.8454\n",
      "Epoch 65/100\n",
      "7318/7318 [==============================] - 12s 2ms/step - loss: 0.3205 - accuracy: 0.8472 - val_loss: 0.3255 - val_accuracy: 0.8456\n",
      "Epoch 66/100\n",
      "7318/7318 [==============================] - 12s 2ms/step - loss: 0.3203 - accuracy: 0.8471 - val_loss: 0.3266 - val_accuracy: 0.8450\n",
      "Epoch 67/100\n",
      "7318/7318 [==============================] - 12s 2ms/step - loss: 0.3205 - accuracy: 0.8469 - val_loss: 0.3246 - val_accuracy: 0.8453\n",
      "Epoch 68/100\n",
      "7318/7318 [==============================] - 12s 2ms/step - loss: 0.3203 - accuracy: 0.8473 - val_loss: 0.3259 - val_accuracy: 0.8451\n",
      "Epoch 69/100\n",
      "7318/7318 [==============================] - 12s 2ms/step - loss: 0.3203 - accuracy: 0.8472 - val_loss: 0.3255 - val_accuracy: 0.8450\n",
      "Epoch 70/100\n",
      "7318/7318 [==============================] - 11s 2ms/step - loss: 0.3204 - accuracy: 0.8470 - val_loss: 0.3253 - val_accuracy: 0.8455\n",
      "Epoch 71/100\n",
      "7318/7318 [==============================] - 12s 2ms/step - loss: 0.3204 - accuracy: 0.8471 - val_loss: 0.3248 - val_accuracy: 0.8452\n",
      "Epoch 72/100\n",
      "7318/7318 [==============================] - 12s 2ms/step - loss: 0.3205 - accuracy: 0.8471 - val_loss: 0.3246 - val_accuracy: 0.8454\n",
      "Epoch 73/100\n",
      "7318/7318 [==============================] - 12s 2ms/step - loss: 0.3201 - accuracy: 0.8471 - val_loss: 0.3245 - val_accuracy: 0.8458\n",
      "Epoch 74/100\n",
      "7318/7318 [==============================] - 11s 2ms/step - loss: 0.3201 - accuracy: 0.8472 - val_loss: 0.3249 - val_accuracy: 0.8457\n",
      "Epoch 75/100\n",
      "7318/7318 [==============================] - 12s 2ms/step - loss: 0.3202 - accuracy: 0.8471 - val_loss: 0.3247 - val_accuracy: 0.8456\n",
      "Epoch 76/100\n",
      "7318/7318 [==============================] - 12s 2ms/step - loss: 0.3201 - accuracy: 0.8471 - val_loss: 0.3245 - val_accuracy: 0.8453\n",
      "Epoch 77/100\n",
      "7318/7318 [==============================] - 12s 2ms/step - loss: 0.3200 - accuracy: 0.8473 - val_loss: 0.3245 - val_accuracy: 0.8455\n",
      "Epoch 78/100\n",
      "7318/7318 [==============================] - 12s 2ms/step - loss: 0.3202 - accuracy: 0.8471 - val_loss: 0.3237 - val_accuracy: 0.8458\n",
      "Epoch 79/100\n",
      "7318/7318 [==============================] - 12s 2ms/step - loss: 0.3200 - accuracy: 0.8470 - val_loss: 0.3248 - val_accuracy: 0.8457\n",
      "Epoch 80/100\n",
      "7318/7318 [==============================] - 12s 2ms/step - loss: 0.3201 - accuracy: 0.8471 - val_loss: 0.3243 - val_accuracy: 0.8457\n",
      "Epoch 81/100\n",
      "7318/7318 [==============================] - 12s 2ms/step - loss: 0.3201 - accuracy: 0.8471 - val_loss: 0.3244 - val_accuracy: 0.8454\n",
      "Epoch 82/100\n",
      "7318/7318 [==============================] - 12s 2ms/step - loss: 0.3201 - accuracy: 0.8470 - val_loss: 0.3247 - val_accuracy: 0.8455\n",
      "Epoch 83/100\n",
      "7318/7318 [==============================] - 12s 2ms/step - loss: 0.3200 - accuracy: 0.8470 - val_loss: 0.3263 - val_accuracy: 0.8448\n",
      "Epoch 84/100\n",
      "7318/7318 [==============================] - 12s 2ms/step - loss: 0.3201 - accuracy: 0.8471 - val_loss: 0.3250 - val_accuracy: 0.8453\n",
      "Epoch 85/100\n",
      "7318/7318 [==============================] - 12s 2ms/step - loss: 0.3198 - accuracy: 0.8471 - val_loss: 0.3247 - val_accuracy: 0.8452\n",
      "Epoch 86/100\n",
      "7318/7318 [==============================] - 12s 2ms/step - loss: 0.3199 - accuracy: 0.8472 - val_loss: 0.3251 - val_accuracy: 0.8452\n",
      "Epoch 87/100\n",
      "7318/7318 [==============================] - 12s 2ms/step - loss: 0.3198 - accuracy: 0.8472 - val_loss: 0.3247 - val_accuracy: 0.8455\n",
      "Epoch 88/100\n",
      "7318/7318 [==============================] - 12s 2ms/step - loss: 0.3197 - accuracy: 0.8472 - val_loss: 0.3247 - val_accuracy: 0.8457\n",
      "Epoch 89/100\n",
      "7318/7318 [==============================] - 12s 2ms/step - loss: 0.3198 - accuracy: 0.8471 - val_loss: 0.3250 - val_accuracy: 0.8456\n",
      "Epoch 90/100\n",
      "7318/7318 [==============================] - 12s 2ms/step - loss: 0.3198 - accuracy: 0.8469 - val_loss: 0.3245 - val_accuracy: 0.8458\n",
      "Epoch 91/100\n",
      "7318/7318 [==============================] - 12s 2ms/step - loss: 0.3197 - accuracy: 0.8471 - val_loss: 0.3246 - val_accuracy: 0.8458\n",
      "Epoch 92/100\n",
      "7318/7318 [==============================] - 12s 2ms/step - loss: 0.3198 - accuracy: 0.8471 - val_loss: 0.3244 - val_accuracy: 0.8456\n",
      "Epoch 93/100\n",
      "7318/7318 [==============================] - 12s 2ms/step - loss: 0.3201 - accuracy: 0.8469 - val_loss: 0.3255 - val_accuracy: 0.8453\n",
      "Epoch 94/100\n",
      "7318/7318 [==============================] - 12s 2ms/step - loss: 0.3198 - accuracy: 0.8473 - val_loss: 0.3262 - val_accuracy: 0.8453\n",
      "Epoch 95/100\n",
      "7318/7318 [==============================] - 12s 2ms/step - loss: 0.3199 - accuracy: 0.8471 - val_loss: 0.3267 - val_accuracy: 0.8445\n",
      "Epoch 96/100\n",
      "7318/7318 [==============================] - 12s 2ms/step - loss: 0.3197 - accuracy: 0.8473 - val_loss: 0.3245 - val_accuracy: 0.8458\n",
      "Epoch 97/100\n",
      "7318/7318 [==============================] - 12s 2ms/step - loss: 0.3199 - accuracy: 0.8472 - val_loss: 0.3245 - val_accuracy: 0.8455\n",
      "Epoch 98/100\n",
      "7318/7318 [==============================] - 12s 2ms/step - loss: 0.3199 - accuracy: 0.8472 - val_loss: 0.3241 - val_accuracy: 0.8460\n",
      "Epoch 99/100\n",
      "7318/7318 [==============================] - 11s 2ms/step - loss: 0.3197 - accuracy: 0.8474 - val_loss: 0.3241 - val_accuracy: 0.8457\n",
      "Epoch 100/100\n",
      "7318/7318 [==============================] - 12s 2ms/step - loss: 0.3195 - accuracy: 0.8475 - val_loss: 0.3246 - val_accuracy: 0.8453\n"
     ]
    }
   ],
   "source": [
    "# fit network\n",
    "history = model.fit(train_X, train_y, epochs=100, batch_size=72, validation_data=(test_X, test_y), verbose=1, shuffle=False)"
   ]
  },
  {
   "cell_type": "code",
   "execution_count": 12,
   "metadata": {},
   "outputs": [
    {
     "data": {
      "image/png": "[encoded data removed]",
      "text/plain": [
       "<Figure size 432x288 with 1 Axes>"
      ]
     },
     "metadata": {
      "needs_background": "light"
     },
     "output_type": "display_data"
    }
   ],
   "source": [
    "# plot history\n",
    "pyplot.plot(history.history['loss'], label='train')\n",
    "pyplot.plot(history.history['val_loss'], label='test')\n",
    "pyplot.legend()\n",
    "pyplot.show()"
   ]
  },
  {
   "cell_type": "code",
   "execution_count": 13,
   "metadata": {},
   "outputs": [],
   "source": [
    "# make a prediction\n",
    "yhat = model.predict(test_X)\n",
    "#test_X = test_X.reshape((test_X.shape[0], test_X.shape[2])"
   ]
  },
  {
   "cell_type": "code",
   "execution_count": 14,
   "metadata": {},
   "outputs": [
    {
     "name": "stdout",
     "output_type": "stream",
     "text": [
      "5489/5489 [==============================] - 3s 587us/step - loss: 0.3246 - accuracy: 0.8453\n"
     ]
    }
   ],
   "source": [
    "test_loss, test_accuracy = model.evaluate(test_X, test_y.to_numpy())"
   ]
  },
  {
   "cell_type": "code",
   "execution_count": 15,
   "metadata": {},
   "outputs": [
    {
     "name": "stdout",
     "output_type": "stream",
     "text": [
      "Test Accuracy: 84.53%\n"
     ]
    }
   ],
   "source": [
    "print(f\"Test Accuracy: {test_accuracy*100:.2f}%\")"
   ]
  },
  {
   "cell_type": "code",
   "execution_count": 16,
   "metadata": {},
   "outputs": [
    {
     "name": "stdout",
     "output_type": "stream",
     "text": [
      "WARNING:tensorflow:From <ipython-input-16-9cfa25195adc>:1: Sequential.predict_classes (from tensorflow.python.keras.engine.sequential) is deprecated and will be removed after 2021-01-01.\n",
      "Instructions for updating:\n",
      "Please use instead:* `np.argmax(model.predict(x), axis=-1)`,   if your model does multi-class classification   (e.g. if it uses a `softmax` last-layer activation).* `(model.predict(x) > 0.5).astype(\"int32\")`,   if your model does binary classification   (e.g. if it uses a `sigmoid` last-layer activation).\n"
     ]
    }
   ],
   "source": [
    "y_pred = model.predict_classes(test_X)"
   ]
  },
  {
   "cell_type": "code",
   "execution_count": 17,
   "metadata": {},
   "outputs": [
    {
     "name": "stdout",
     "output_type": "stream",
     "text": [
      "Precision score: 0.7725003685995324\n"
     ]
    }
   ],
   "source": [
    "from sklearn.metrics import precision_score\n",
    "\n",
    "print(\"Precision score: {}\".format(precision_score(test_y,y_pred)))"
   ]
  },
  {
   "cell_type": "code",
   "execution_count": 18,
   "metadata": {},
   "outputs": [
    {
     "name": "stdout",
     "output_type": "stream",
     "text": [
      "              precision    recall  f1-score   support\n",
      "\n",
      "           0       0.87      0.91      0.89    122586\n",
      "           1       0.77      0.69      0.73     53039\n",
      "\n",
      "    accuracy                           0.85    175625\n",
      "   macro avg       0.82      0.80      0.81    175625\n",
      "weighted avg       0.84      0.85      0.84    175625\n",
      "\n"
     ]
    },
    {
     "data": {
      "image/png": "[encoded data removed]",
      "text/plain": [
       "<Figure size 360x360 with 2 Axes>"
      ]
     },
     "metadata": {
      "image/png": {
       "height": 331,
       "width": 340
      },
      "needs_background": "light"
     },
     "output_type": "display_data"
    }
   ],
   "source": [
    "import numpy as np\n",
    "import matplotlib as mpl\n",
    "import matplotlib.pyplot as plt\n",
    "import seaborn as sns\n",
    "from sklearn.metrics import (classification_report,\n",
    "                             confusion_matrix,\n",
    "                             roc_auc_score)\n",
    "%matplotlib inline\n",
    "%config InlineBackend.figure_format = 'retina'\n",
    "  \n",
    "report = classification_report(test_y, y_pred)\n",
    "print(report)\n",
    "  \n",
    "def plot_cm(labels, predictions, p=0.5):\n",
    "    cm = confusion_matrix(labels, predictions)\n",
    "    plt.figure(figsize=(5, 5))\n",
    "    sns.heatmap(cm, annot=True, fmt=\"d\")\n",
    "    plt.title(\"Confusion matrix (non-normalized))\")\n",
    "    plt.ylabel(\"Actual label\")\n",
    "    plt.xlabel(\"Predicted label\")\n",
    "  \n",
    "plot_cm(test_y, y_pred)"
   ]
  },
  {
   "cell_type": "code",
   "execution_count": 19,
   "metadata": {},
   "outputs": [
    {
     "data": {
      "image/png": "[encoded data removed]",
      "text/plain": [
       "<Figure size 432x432 with 1 Axes>"
      ]
     },
     "metadata": {
      "image/png": {
       "height": 386,
       "width": 393
      },
      "needs_background": "light"
     },
     "output_type": "display_data"
    }
   ],
   "source": [
    "import numpy as np\n",
    "import matplotlib.pyplot as plt\n",
    "from itertools import cycle\n",
    "  \n",
    "mpl.rcParams[\"figure.figsize\"] = (6, 6)\n",
    "  \n",
    "from sklearn import svm, datasets\n",
    "from sklearn.metrics import roc_curve, auc\n",
    "from sklearn.model_selection import train_test_split\n",
    "from sklearn.preprocessing import label_binarize\n",
    "from scipy import interp\n",
    "from sklearn.metrics import roc_auc_score\n",
    "  \n",
    "# Binarize the output\n",
    "y_bin = label_binarize(test_y, classes=[0, 1])\n",
    "n_classes = 1\n",
    "  \n",
    "# Compute ROC curve and ROC area for each class\n",
    "fpr = dict()\n",
    "tpr = dict()\n",
    "roc_auc = dict()\n",
    "for i in  range(n_classes):\n",
    "    fpr[i], tpr[i], _ = roc_curve(test_y.ravel(), y_pred.ravel())\n",
    "    roc_auc[i] = auc(fpr[i], tpr[i])\n",
    "  \n",
    "# Compute micro-average ROC curve and ROC area\n",
    "fpr[\"micro\"], tpr[\"micro\"], _ = roc_curve(test_y.ravel(), y_pred.ravel())\n",
    "roc_auc[\"micro\"] = auc(fpr[\"micro\"], tpr[\"micro\"])\n",
    "  \n",
    "plt.figure()\n",
    "lw = 2\n",
    "plt.plot(fpr[0], tpr[0], color='darkorange',\n",
    "         lw=lw, label='ROC curve (area = %0.2f)' % roc_auc[0])\n",
    "plt.plot([0, 1], [0, 1], color='navy', lw=lw, linestyle='--')\n",
    "plt.xlim([0.0, 1.0])\n",
    "plt.ylim([0.0, 1.05])\n",
    "plt.xlabel('False Positive Rate')\n",
    "plt.ylabel('True Positive Rate')\n",
    "plt.title('Receiver operating characteristic')\n",
    "plt.legend(loc=\"lower right\")\n",
    "plt.show()"
   ]
  },
  {
   "cell_type": "code",
   "execution_count": null,
   "metadata": {},
   "outputs": [],
   "source": []
  }
 ],
 "metadata": {
  "kernelspec": {
   "display_name": "Python 3",
   "language": "python",
   "name": "python3"
  },
  "language_info": {
   "codemirror_mode": {
    "name": "ipython",
    "version": 3
   },
   "file_extension": ".py",
   "mimetype": "text/x-python",
   "name": "python",
   "nbconvert_exporter": "python",
   "pygments_lexer": "ipython3",
   "version": "3.8.3"
  }
 },
 "nbformat": 4,
 "nbformat_minor": 4
}
