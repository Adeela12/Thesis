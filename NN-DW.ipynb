{
 "cells": [
  {
   "cell_type": "markdown",
   "metadata": {},
   "source": [
    "# A simple Artificial Neural Network to predict Dishwasher"
   ]
  },
  {
   "cell_type": "code",
   "execution_count": 1,
   "metadata": {},
   "outputs": [],
   "source": [
    "import pandas as pd"
   ]
  },
  {
   "cell_type": "code",
   "execution_count": 2,
   "metadata": {},
   "outputs": [],
   "source": [
    "df = pd.read_csv('C:/Users/Crimson/Desktop/Neural_Net/New_Data/Merge1/all_houses1.csv', header=0, parse_dates=[0], index_col=0, squeeze=True)"
   ]
  },
  {
   "cell_type": "code",
   "execution_count": 3,
   "metadata": {},
   "outputs": [
    {
     "data": {
      "text/html": [
       "<div>\n",
       "<style scoped>\n",
       "    .dataframe tbody tr th:only-of-type {\n",
       "        vertical-align: middle;\n",
       "    }\n",
       "\n",
       "    .dataframe tbody tr th {\n",
       "        vertical-align: top;\n",
       "    }\n",
       "\n",
       "    .dataframe thead th {\n",
       "        text-align: right;\n",
       "    }\n",
       "</style>\n",
       "<table border=\"1\" class=\"dataframe\">\n",
       "  <thead>\n",
       "    <tr style=\"text-align: right;\">\n",
       "      <th></th>\n",
       "      <th>Month</th>\n",
       "      <th>Weekday</th>\n",
       "      <th>Hour</th>\n",
       "      <th>Occupancy</th>\n",
       "      <th>Appliances Owned</th>\n",
       "      <th>Type</th>\n",
       "      <th>Size</th>\n",
       "      <th>Washing Machine</th>\n",
       "      <th>Dishwasher</th>\n",
       "      <th>Television Site</th>\n",
       "      <th>Microwave</th>\n",
       "      <th>Kettle</th>\n",
       "    </tr>\n",
       "  </thead>\n",
       "  <tbody>\n",
       "    <tr>\n",
       "      <th>0</th>\n",
       "      <td>10</td>\n",
       "      <td>2</td>\n",
       "      <td>13</td>\n",
       "      <td>4</td>\n",
       "      <td>23</td>\n",
       "      <td>1</td>\n",
       "      <td>3</td>\n",
       "      <td>0</td>\n",
       "      <td>0</td>\n",
       "      <td>0</td>\n",
       "      <td>0</td>\n",
       "      <td>0</td>\n",
       "    </tr>\n",
       "    <tr>\n",
       "      <th>1</th>\n",
       "      <td>10</td>\n",
       "      <td>2</td>\n",
       "      <td>13</td>\n",
       "      <td>4</td>\n",
       "      <td>23</td>\n",
       "      <td>1</td>\n",
       "      <td>3</td>\n",
       "      <td>0</td>\n",
       "      <td>0</td>\n",
       "      <td>0</td>\n",
       "      <td>0</td>\n",
       "      <td>0</td>\n",
       "    </tr>\n",
       "    <tr>\n",
       "      <th>2</th>\n",
       "      <td>10</td>\n",
       "      <td>2</td>\n",
       "      <td>13</td>\n",
       "      <td>4</td>\n",
       "      <td>23</td>\n",
       "      <td>1</td>\n",
       "      <td>3</td>\n",
       "      <td>0</td>\n",
       "      <td>0</td>\n",
       "      <td>0</td>\n",
       "      <td>0</td>\n",
       "      <td>0</td>\n",
       "    </tr>\n",
       "    <tr>\n",
       "      <th>3</th>\n",
       "      <td>10</td>\n",
       "      <td>2</td>\n",
       "      <td>13</td>\n",
       "      <td>4</td>\n",
       "      <td>23</td>\n",
       "      <td>1</td>\n",
       "      <td>3</td>\n",
       "      <td>0</td>\n",
       "      <td>0</td>\n",
       "      <td>0</td>\n",
       "      <td>0</td>\n",
       "      <td>0</td>\n",
       "    </tr>\n",
       "    <tr>\n",
       "      <th>4</th>\n",
       "      <td>10</td>\n",
       "      <td>2</td>\n",
       "      <td>13</td>\n",
       "      <td>4</td>\n",
       "      <td>23</td>\n",
       "      <td>1</td>\n",
       "      <td>3</td>\n",
       "      <td>0</td>\n",
       "      <td>0</td>\n",
       "      <td>0</td>\n",
       "      <td>0</td>\n",
       "      <td>0</td>\n",
       "    </tr>\n",
       "    <tr>\n",
       "      <th>...</th>\n",
       "      <td>...</td>\n",
       "      <td>...</td>\n",
       "      <td>...</td>\n",
       "      <td>...</td>\n",
       "      <td>...</td>\n",
       "      <td>...</td>\n",
       "      <td>...</td>\n",
       "      <td>...</td>\n",
       "      <td>...</td>\n",
       "      <td>...</td>\n",
       "      <td>...</td>\n",
       "      <td>...</td>\n",
       "    </tr>\n",
       "    <tr>\n",
       "      <th>702492</th>\n",
       "      <td>5</td>\n",
       "      <td>5</td>\n",
       "      <td>13</td>\n",
       "      <td>4</td>\n",
       "      <td>23</td>\n",
       "      <td>1</td>\n",
       "      <td>3</td>\n",
       "      <td>50</td>\n",
       "      <td>0</td>\n",
       "      <td>595</td>\n",
       "      <td>0</td>\n",
       "      <td>0</td>\n",
       "    </tr>\n",
       "    <tr>\n",
       "      <th>702493</th>\n",
       "      <td>5</td>\n",
       "      <td>5</td>\n",
       "      <td>13</td>\n",
       "      <td>4</td>\n",
       "      <td>23</td>\n",
       "      <td>1</td>\n",
       "      <td>3</td>\n",
       "      <td>50</td>\n",
       "      <td>0</td>\n",
       "      <td>583</td>\n",
       "      <td>0</td>\n",
       "      <td>0</td>\n",
       "    </tr>\n",
       "    <tr>\n",
       "      <th>702494</th>\n",
       "      <td>5</td>\n",
       "      <td>5</td>\n",
       "      <td>13</td>\n",
       "      <td>4</td>\n",
       "      <td>23</td>\n",
       "      <td>1</td>\n",
       "      <td>3</td>\n",
       "      <td>50</td>\n",
       "      <td>0</td>\n",
       "      <td>580</td>\n",
       "      <td>0</td>\n",
       "      <td>0</td>\n",
       "    </tr>\n",
       "    <tr>\n",
       "      <th>702495</th>\n",
       "      <td>5</td>\n",
       "      <td>5</td>\n",
       "      <td>14</td>\n",
       "      <td>4</td>\n",
       "      <td>23</td>\n",
       "      <td>1</td>\n",
       "      <td>3</td>\n",
       "      <td>50</td>\n",
       "      <td>0</td>\n",
       "      <td>584</td>\n",
       "      <td>0</td>\n",
       "      <td>0</td>\n",
       "    </tr>\n",
       "    <tr>\n",
       "      <th>702496</th>\n",
       "      <td>5</td>\n",
       "      <td>5</td>\n",
       "      <td>14</td>\n",
       "      <td>4</td>\n",
       "      <td>23</td>\n",
       "      <td>1</td>\n",
       "      <td>3</td>\n",
       "      <td>32</td>\n",
       "      <td>0</td>\n",
       "      <td>376</td>\n",
       "      <td>0</td>\n",
       "      <td>0</td>\n",
       "    </tr>\n",
       "  </tbody>\n",
       "</table>\n",
       "<p>702497 rows × 12 columns</p>\n",
       "</div>"
      ],
      "text/plain": [
       "        Month  Weekday  Hour   Occupancy   Appliances Owned   Type   Size  \\\n",
       "0          10        2    13           4                 23      1      3   \n",
       "1          10        2    13           4                 23      1      3   \n",
       "2          10        2    13           4                 23      1      3   \n",
       "3          10        2    13           4                 23      1      3   \n",
       "4          10        2    13           4                 23      1      3   \n",
       "...       ...      ...   ...         ...                ...    ...    ...   \n",
       "702492      5        5    13           4                 23      1      3   \n",
       "702493      5        5    13           4                 23      1      3   \n",
       "702494      5        5    13           4                 23      1      3   \n",
       "702495      5        5    14           4                 23      1      3   \n",
       "702496      5        5    14           4                 23      1      3   \n",
       "\n",
       "        Washing Machine  Dishwasher  Television Site  Microwave  Kettle  \n",
       "0                     0           0                0          0       0  \n",
       "1                     0           0                0          0       0  \n",
       "2                     0           0                0          0       0  \n",
       "3                     0           0                0          0       0  \n",
       "4                     0           0                0          0       0  \n",
       "...                 ...         ...              ...        ...     ...  \n",
       "702492               50           0              595          0       0  \n",
       "702493               50           0              583          0       0  \n",
       "702494               50           0              580          0       0  \n",
       "702495               50           0              584          0       0  \n",
       "702496               32           0              376          0       0  \n",
       "\n",
       "[702497 rows x 12 columns]"
      ]
     },
     "execution_count": 3,
     "metadata": {},
     "output_type": "execute_result"
    }
   ],
   "source": [
    "df = df.drop(['Time'],axis =1)\n",
    "df"
   ]
  },
  {
   "cell_type": "code",
   "execution_count": 4,
   "metadata": {},
   "outputs": [],
   "source": [
    "from tensorflow.keras.models import Sequential\n",
    "from tensorflow.keras.layers import Dense\n",
    "from tensorflow.keras import backend\n",
    "from sklearn.model_selection import train_test_split\n",
    "from pandas import read_csv\n",
    "import numpy as np\n",
    "import tensorflow as tf\n",
    "import matplotlib.pyplot as plt\n",
    "from sklearn.metrics import confusion_matrix, accuracy_score"
   ]
  },
  {
   "cell_type": "markdown",
   "metadata": {},
   "source": [
    "# Binarize Data of Appliances"
   ]
  },
  {
   "cell_type": "code",
   "execution_count": 5,
   "metadata": {},
   "outputs": [],
   "source": [
    "df['Washing Machine'] = (df['Washing Machine']> 1).astype(int)\n",
    "df['Dishwasher'] = (df['Dishwasher'] > 1).astype(int)\n",
    "df['Television Site'] = (df['Television Site'] > 1).astype(int)\n",
    "df['Microwave'] = (df['Microwave'] > 1).astype(int)\n",
    "df['Kettle'] = (df['Kettle'] > 1).astype(int)"
   ]
  },
  {
   "cell_type": "markdown",
   "metadata": {},
   "source": [
    "# Handle Imbalance data with Oversampling Minority Class"
   ]
  },
  {
   "cell_type": "code",
   "execution_count": 6,
   "metadata": {},
   "outputs": [],
   "source": [
    "import matplotlib.pyplot as plt\n",
    "import seaborn as sns\n",
    "from sklearn.metrics import accuracy_score, f1_score,  recall_score"
   ]
  },
  {
   "cell_type": "code",
   "execution_count": 7,
   "metadata": {},
   "outputs": [],
   "source": [
    "# setting up default plotting parameters\n",
    "%matplotlib inline\n",
    "\n",
    "plt.rcParams['figure.figsize'] = [20.0, 7.0]\n",
    "plt.rcParams.update({'font.size': 22,})\n",
    "\n",
    "sns.set_palette('viridis')\n",
    "sns.set_style('white')\n",
    "sns.set_context('talk', font_scale=0.8)"
   ]
  },
  {
   "cell_type": "code",
   "execution_count": 8,
   "metadata": {},
   "outputs": [
    {
     "name": "stdout",
     "output_type": "stream",
     "text": [
      "0    659428\n",
      "1     43069\n",
      "Name: Dishwasher, dtype: int64\n"
     ]
    }
   ],
   "source": [
    "print(df.Dishwasher.value_counts())"
   ]
  },
  {
   "cell_type": "code",
   "execution_count": 9,
   "metadata": {},
   "outputs": [
    {
     "data": {
      "image/png": "[encoded data removed]",
      "text/plain": [
       "<Figure size 1440x504 with 1 Axes>"
      ]
     },
     "metadata": {},
     "output_type": "display_data"
    }
   ],
   "source": [
    "fig, ax = plt.subplots()\n",
    "g = sns.countplot(df.Dishwasher, palette='viridis')\n",
    "g.set_xticklabels(['OFF', 'ON'])\n",
    "g.set_yticklabels([])\n",
    "\n",
    "# function to show values on bars\n",
    "def show_values_on_bars(axs):\n",
    "    def _show_on_single_plot(ax):        \n",
    "        for p in ax.patches:\n",
    "            _x = p.get_x() + p.get_width() / 2\n",
    "            _y = p.get_y() + p.get_height()\n",
    "            value = '{:.0f}'.format(p.get_height())\n",
    "            ax.text(_x, _y, value, ha=\"center\") \n",
    "\n",
    "    if isinstance(axs, np.ndarray):\n",
    "        for idx, ax in np.ndenumerate(axs):\n",
    "            _show_on_single_plot(ax)\n",
    "    else:\n",
    "        _show_on_single_plot(axs)\n",
    "show_values_on_bars(ax)\n",
    "\n",
    "sns.despine(left=True, bottom=True)\n",
    "plt.xlabel('')\n",
    "plt.ylabel('')\n",
    "plt.title('Distribution of on/off', fontsize=30)\n",
    "plt.tick_params(axis='x', which='major', labelsize=15)\n",
    "plt.show()\n"
   ]
  },
  {
   "cell_type": "code",
   "execution_count": 10,
   "metadata": {},
   "outputs": [
    {
     "data": {
      "text/plain": [
       "6.531266491565417"
      ]
     },
     "execution_count": 10,
     "metadata": {},
     "output_type": "execute_result"
    }
   ],
   "source": [
    "# print percentage of questions where target == 1\n",
    "(len(df.loc[df.Dishwasher==1])) / (len(df.loc[df.Dishwasher == 0])) * 100"
   ]
  },
  {
   "cell_type": "code",
   "execution_count": 11,
   "metadata": {},
   "outputs": [],
   "source": [
    "# Prepare data for modeling\n",
    "# Separate input features and target\n",
    "y = df.Dishwasher\n",
    "X = df.drop('Dishwasher', axis=1)\n",
    "\n",
    "# setting up testing and training sets\n",
    "X_train, X_test, y_train, y_test = train_test_split(X, y, test_size=0.20)"
   ]
  },
  {
   "cell_type": "code",
   "execution_count": 12,
   "metadata": {},
   "outputs": [],
   "source": [
    "from sklearn.utils import resample"
   ]
  },
  {
   "cell_type": "code",
   "execution_count": 13,
   "metadata": {},
   "outputs": [
    {
     "data": {
      "text/html": [
       "<div>\n",
       "<style scoped>\n",
       "    .dataframe tbody tr th:only-of-type {\n",
       "        vertical-align: middle;\n",
       "    }\n",
       "\n",
       "    .dataframe tbody tr th {\n",
       "        vertical-align: top;\n",
       "    }\n",
       "\n",
       "    .dataframe thead th {\n",
       "        text-align: right;\n",
       "    }\n",
       "</style>\n",
       "<table border=\"1\" class=\"dataframe\">\n",
       "  <thead>\n",
       "    <tr style=\"text-align: right;\">\n",
       "      <th></th>\n",
       "      <th>Month</th>\n",
       "      <th>Weekday</th>\n",
       "      <th>Hour</th>\n",
       "      <th>Occupancy</th>\n",
       "      <th>Appliances Owned</th>\n",
       "      <th>Type</th>\n",
       "      <th>Size</th>\n",
       "      <th>Washing Machine</th>\n",
       "      <th>Television Site</th>\n",
       "      <th>Microwave</th>\n",
       "      <th>Kettle</th>\n",
       "      <th>Dishwasher</th>\n",
       "    </tr>\n",
       "  </thead>\n",
       "  <tbody>\n",
       "    <tr>\n",
       "      <th>87537</th>\n",
       "      <td>2</td>\n",
       "      <td>0</td>\n",
       "      <td>1</td>\n",
       "      <td>4</td>\n",
       "      <td>23</td>\n",
       "      <td>1</td>\n",
       "      <td>3</td>\n",
       "      <td>0</td>\n",
       "      <td>0</td>\n",
       "      <td>0</td>\n",
       "      <td>0</td>\n",
       "      <td>0</td>\n",
       "    </tr>\n",
       "    <tr>\n",
       "      <th>260894</th>\n",
       "      <td>2</td>\n",
       "      <td>5</td>\n",
       "      <td>6</td>\n",
       "      <td>4</td>\n",
       "      <td>23</td>\n",
       "      <td>2</td>\n",
       "      <td>3</td>\n",
       "      <td>0</td>\n",
       "      <td>0</td>\n",
       "      <td>0</td>\n",
       "      <td>0</td>\n",
       "      <td>0</td>\n",
       "    </tr>\n",
       "    <tr>\n",
       "      <th>401490</th>\n",
       "      <td>6</td>\n",
       "      <td>3</td>\n",
       "      <td>10</td>\n",
       "      <td>4</td>\n",
       "      <td>23</td>\n",
       "      <td>2</td>\n",
       "      <td>3</td>\n",
       "      <td>0</td>\n",
       "      <td>0</td>\n",
       "      <td>0</td>\n",
       "      <td>0</td>\n",
       "      <td>0</td>\n",
       "    </tr>\n",
       "    <tr>\n",
       "      <th>648090</th>\n",
       "      <td>12</td>\n",
       "      <td>6</td>\n",
       "      <td>19</td>\n",
       "      <td>4</td>\n",
       "      <td>23</td>\n",
       "      <td>1</td>\n",
       "      <td>3</td>\n",
       "      <td>0</td>\n",
       "      <td>1</td>\n",
       "      <td>1</td>\n",
       "      <td>0</td>\n",
       "      <td>0</td>\n",
       "    </tr>\n",
       "    <tr>\n",
       "      <th>390837</th>\n",
       "      <td>5</td>\n",
       "      <td>1</td>\n",
       "      <td>10</td>\n",
       "      <td>4</td>\n",
       "      <td>23</td>\n",
       "      <td>2</td>\n",
       "      <td>3</td>\n",
       "      <td>0</td>\n",
       "      <td>0</td>\n",
       "      <td>0</td>\n",
       "      <td>0</td>\n",
       "      <td>0</td>\n",
       "    </tr>\n",
       "  </tbody>\n",
       "</table>\n",
       "</div>"
      ],
      "text/plain": [
       "        Month  Weekday  Hour   Occupancy   Appliances Owned   Type   Size  \\\n",
       "87537       2        0     1           4                 23      1      3   \n",
       "260894      2        5     6           4                 23      2      3   \n",
       "401490      6        3    10           4                 23      2      3   \n",
       "648090     12        6    19           4                 23      1      3   \n",
       "390837      5        1    10           4                 23      2      3   \n",
       "\n",
       "        Washing Machine  Television Site  Microwave  Kettle  Dishwasher  \n",
       "87537                 0                0          0       0           0  \n",
       "260894                0                0          0       0           0  \n",
       "401490                0                0          0       0           0  \n",
       "648090                0                1          1       0           0  \n",
       "390837                0                0          0       0           0  "
      ]
     },
     "execution_count": 13,
     "metadata": {},
     "output_type": "execute_result"
    }
   ],
   "source": [
    "# concatenate our training data back together\n",
    "X = pd.concat([X_train, y_train], axis=1)\n",
    "X.head()"
   ]
  },
  {
   "cell_type": "code",
   "execution_count": 14,
   "metadata": {},
   "outputs": [],
   "source": [
    "# separate minority and majority classes\n",
    "off = X[X.Dishwasher==0]\n",
    "on = X[X.Dishwasher==1]"
   ]
  },
  {
   "cell_type": "code",
   "execution_count": 15,
   "metadata": {},
   "outputs": [],
   "source": [
    "# upsample minority\n",
    "on_upsampled = resample(on,\n",
    "                          replace=True, # sample with replacement\n",
    "                          n_samples=len(off), # match number in majority class\n",
    "                          random_state=27) # reproducible results"
   ]
  },
  {
   "cell_type": "code",
   "execution_count": 16,
   "metadata": {},
   "outputs": [],
   "source": [
    "# combine majority and upsampled minority\n",
    "upsampled = pd.concat([off, on_upsampled])"
   ]
  },
  {
   "cell_type": "code",
   "execution_count": 17,
   "metadata": {},
   "outputs": [
    {
     "data": {
      "text/plain": [
       "1    527402\n",
       "0    527402\n",
       "Name: Dishwasher, dtype: int64"
      ]
     },
     "execution_count": 17,
     "metadata": {},
     "output_type": "execute_result"
    }
   ],
   "source": [
    "# check new kettle counts\n",
    "upsampled.Dishwasher.value_counts()"
   ]
  },
  {
   "cell_type": "code",
   "execution_count": 18,
   "metadata": {},
   "outputs": [],
   "source": [
    "y_train = upsampled.Dishwasher\n",
    "X_train = upsampled.drop('Dishwasher', axis=1)"
   ]
  },
  {
   "cell_type": "markdown",
   "metadata": {},
   "source": [
    "# Simple Model of  Artificial NeuralNet"
   ]
  },
  {
   "cell_type": "code",
   "execution_count": 19,
   "metadata": {},
   "outputs": [],
   "source": [
    "from tensorflow.keras import regularizers"
   ]
  },
  {
   "cell_type": "code",
   "execution_count": 20,
   "metadata": {},
   "outputs": [],
   "source": [
    "#Last time with regularization 0.01 accuracy was 86 and macro was 69"
   ]
  },
  {
   "cell_type": "code",
   "execution_count": 21,
   "metadata": {},
   "outputs": [
    {
     "name": "stdout",
     "output_type": "stream",
     "text": [
      "Model: \"sequential\"\n",
      "_________________________________________________________________\n",
      "Layer (type)                 Output Shape              Param #   \n",
      "=================================================================\n",
      "dense (Dense)                (None, 320)               3840      \n",
      "_________________________________________________________________\n",
      "dense_1 (Dense)              (None, 128)               41088     \n",
      "_________________________________________________________________\n",
      "dense_2 (Dense)              (None, 64)                8256      \n",
      "_________________________________________________________________\n",
      "dense_3 (Dense)              (None, 32)                2080      \n",
      "_________________________________________________________________\n",
      "dense_4 (Dense)              (None, 1)                 33        \n",
      "=================================================================\n",
      "Total params: 55,297\n",
      "Trainable params: 55,297\n",
      "Non-trainable params: 0\n",
      "_________________________________________________________________\n"
     ]
    }
   ],
   "source": [
    "model = Sequential()\n",
    "model.add(tf.keras.layers.Dense(units=320, activation='relu', input_dim=11, kernel_regularizer=regularizers.l2(0.01)))\n",
    "model.add(tf.keras.layers.Dense(units=128, activation='relu'))\n",
    "model.add(tf.keras.layers.Dense(units=64, activation='relu'))\n",
    "model.add(tf.keras.layers.Dense(units=32, activation='relu'))\n",
    "model.add(tf.keras.layers.Dense(units=1, activation='sigmoid'))\n",
    "model.summary()\n"
   ]
  },
  {
   "cell_type": "code",
   "execution_count": 22,
   "metadata": {},
   "outputs": [
    {
     "name": "stdout",
     "output_type": "stream",
     "text": [
      "Epoch 1/60\n",
      "16482/16482 [==============================] - 12s 741us/step - loss: 0.4155 - accuracy: 0.8303\n",
      "Epoch 2/60\n",
      "16482/16482 [==============================] - 12s 741us/step - loss: 0.3633 - accuracy: 0.8492\n",
      "Epoch 3/60\n",
      "16482/16482 [==============================] - 12s 746us/step - loss: 0.3495 - accuracy: 0.8555\n",
      "Epoch 4/60\n",
      "16482/16482 [==============================] - 12s 748us/step - loss: 0.3395 - accuracy: 0.8598\n",
      "Epoch 5/60\n",
      "16482/16482 [==============================] - 12s 758us/step - loss: 0.3319 - accuracy: 0.8634\n",
      "Epoch 6/60\n",
      "16482/16482 [==============================] - 12s 747us/step - loss: 0.3271 - accuracy: 0.8659\n",
      "Epoch 7/60\n",
      "16482/16482 [==============================] - 12s 740us/step - loss: 0.3222 - accuracy: 0.8684\n",
      "Epoch 8/60\n",
      "16482/16482 [==============================] - 13s 779us/step - loss: 0.3186 - accuracy: 0.8703\n",
      "Epoch 9/60\n",
      "16482/16482 [==============================] - 12s 753us/step - loss: 0.3162 - accuracy: 0.8714\n",
      "Epoch 10/60\n",
      "16482/16482 [==============================] - 13s 794us/step - loss: 0.3131 - accuracy: 0.8730\n",
      "Epoch 11/60\n",
      "16482/16482 [==============================] - 13s 759us/step - loss: 0.3103 - accuracy: 0.8747\n",
      "Epoch 12/60\n",
      "16482/16482 [==============================] - 12s 754us/step - loss: 0.3088 - accuracy: 0.8751\n",
      "Epoch 13/60\n",
      "16482/16482 [==============================] - 13s 785us/step - loss: 0.3069 - accuracy: 0.8763\n",
      "Epoch 14/60\n",
      "16482/16482 [==============================] - 13s 766us/step - loss: 0.3051 - accuracy: 0.8769\n",
      "Epoch 15/60\n",
      "16482/16482 [==============================] - 13s 762us/step - loss: 0.3038 - accuracy: 0.8778\n",
      "Epoch 16/60\n",
      "16482/16482 [==============================] - 12s 747us/step - loss: 0.3027 - accuracy: 0.8782\n",
      "Epoch 17/60\n",
      "16482/16482 [==============================] - 12s 746us/step - loss: 0.3017 - accuracy: 0.8790\n",
      "Epoch 18/60\n",
      "16482/16482 [==============================] - 12s 745us/step - loss: 0.3007 - accuracy: 0.8799\n",
      "Epoch 19/60\n",
      "16482/16482 [==============================] - 12s 748us/step - loss: 0.2995 - accuracy: 0.8805\n",
      "Epoch 20/60\n",
      "16482/16482 [==============================] - 12s 752us/step - loss: 0.2978 - accuracy: 0.8815\n",
      "Epoch 21/60\n",
      "16482/16482 [==============================] - 13s 761us/step - loss: 0.2970 - accuracy: 0.8817\n",
      "Epoch 22/60\n",
      "16482/16482 [==============================] - 13s 776us/step - loss: 0.2969 - accuracy: 0.8819\n",
      "Epoch 23/60\n",
      "16482/16482 [==============================] - 13s 766us/step - loss: 0.2955 - accuracy: 0.8825\n",
      "Epoch 24/60\n",
      "16482/16482 [==============================] - 12s 751us/step - loss: 0.2956 - accuracy: 0.8824\n",
      "Epoch 25/60\n",
      "16482/16482 [==============================] - 12s 751us/step - loss: 0.2943 - accuracy: 0.8833\n",
      "Epoch 26/60\n",
      "16482/16482 [==============================] - 12s 753us/step - loss: 0.2939 - accuracy: 0.8833\n",
      "Epoch 27/60\n",
      "16482/16482 [==============================] - 13s 768us/step - loss: 0.2929 - accuracy: 0.8838\n",
      "Epoch 28/60\n",
      "16482/16482 [==============================] - 13s 772us/step - loss: 0.2923 - accuracy: 0.8842\n",
      "Epoch 29/60\n",
      "16482/16482 [==============================] - 13s 797us/step - loss: 0.2916 - accuracy: 0.8844\n",
      "Epoch 30/60\n",
      "16482/16482 [==============================] - 14s 864us/step - loss: 0.2914 - accuracy: 0.8845\n",
      "Epoch 31/60\n",
      "16482/16482 [==============================] - 15s 921us/step - loss: 0.2911 - accuracy: 0.8845\n",
      "Epoch 32/60\n",
      "16482/16482 [==============================] - 16s 945us/step - loss: 0.2908 - accuracy: 0.8850\n",
      "Epoch 33/60\n",
      "16482/16482 [==============================] - 15s 921us/step - loss: 0.2904 - accuracy: 0.8853\n",
      "Epoch 34/60\n",
      "16482/16482 [==============================] - 15s 912us/step - loss: 0.2899 - accuracy: 0.8856\n",
      "Epoch 35/60\n",
      "16482/16482 [==============================] - 16s 959us/step - loss: 0.2903 - accuracy: 0.8854\n",
      "Epoch 36/60\n",
      "16482/16482 [==============================] - 16s 977us/step - loss: 0.2892 - accuracy: 0.8855\n",
      "Epoch 37/60\n",
      "16482/16482 [==============================] - 15s 939us/step - loss: 0.2889 - accuracy: 0.8859\n",
      "Epoch 38/60\n",
      "16482/16482 [==============================] - 16s 976us/step - loss: 0.2884 - accuracy: 0.8858\n",
      "Epoch 39/60\n",
      "16482/16482 [==============================] - 15s 939us/step - loss: 0.2877 - accuracy: 0.8860\n",
      "Epoch 40/60\n",
      "16482/16482 [==============================] - 15s 926us/step - loss: 0.2882 - accuracy: 0.8861\n",
      "Epoch 41/60\n",
      "16482/16482 [==============================] - 15s 909us/step - loss: 0.2879 - accuracy: 0.8862\n",
      "Epoch 42/60\n",
      "16482/16482 [==============================] - 15s 934us/step - loss: 0.2875 - accuracy: 0.8864\n",
      "Epoch 43/60\n",
      "16482/16482 [==============================] - 15s 923us/step - loss: 0.2872 - accuracy: 0.8869\n",
      "Epoch 44/60\n",
      "16482/16482 [==============================] - 16s 966us/step - loss: 0.2870 - accuracy: 0.8865\n",
      "Epoch 45/60\n",
      "16482/16482 [==============================] - 15s 914us/step - loss: 0.2864 - accuracy: 0.8872\n",
      "Epoch 46/60\n",
      "16482/16482 [==============================] - 15s 926us/step - loss: 0.2865 - accuracy: 0.8871\n",
      "Epoch 47/60\n",
      "16482/16482 [==============================] - 15s 907us/step - loss: 0.2863 - accuracy: 0.8869\n",
      "Epoch 48/60\n",
      "16482/16482 [==============================] - 15s 940us/step - loss: 0.2860 - accuracy: 0.8871\n",
      "Epoch 49/60\n",
      "16482/16482 [==============================] - 15s 924us/step - loss: 0.2856 - accuracy: 0.8876\n",
      "Epoch 50/60\n",
      "16482/16482 [==============================] - 15s 940us/step - loss: 0.2849 - accuracy: 0.8876\n",
      "Epoch 51/60\n",
      "16482/16482 [==============================] - 16s 945us/step - loss: 0.2852 - accuracy: 0.8874\n",
      "Epoch 52/60\n",
      "16482/16482 [==============================] - 16s 982us/step - loss: 0.2847 - accuracy: 0.8876\n",
      "Epoch 53/60\n",
      "16482/16482 [==============================] - 15s 936us/step - loss: 0.2839 - accuracy: 0.8880\n",
      "Epoch 54/60\n",
      "16482/16482 [==============================] - 15s 928us/step - loss: 0.2842 - accuracy: 0.8880\n",
      "Epoch 55/60\n",
      "16482/16482 [==============================] - 15s 903us/step - loss: 0.2841 - accuracy: 0.8880\n",
      "Epoch 56/60\n",
      "16482/16482 [==============================] - 15s 897us/step - loss: 0.2841 - accuracy: 0.8881\n",
      "Epoch 57/60\n",
      "16482/16482 [==============================] - 15s 901us/step - loss: 0.2845 - accuracy: 0.8878\n",
      "Epoch 58/60\n",
      "16482/16482 [==============================] - 15s 895us/step - loss: 0.2844 - accuracy: 0.8881\n",
      "Epoch 59/60\n",
      "16482/16482 [==============================] - 15s 889us/step - loss: 0.2839 - accuracy: 0.8882\n",
      "Epoch 60/60\n",
      "16482/16482 [==============================] - 15s 922us/step - loss: 0.2832 - accuracy: 0.8887\n"
     ]
    }
   ],
   "source": [
    "model.compile(loss='binary_crossentropy', optimizer='adam', metrics=['accuracy'])\n",
    "history=model.fit(X_train, y_train.to_numpy(), batch_size=64, epochs=60)"
   ]
  },
  {
   "cell_type": "code",
   "execution_count": 23,
   "metadata": {},
   "outputs": [
    {
     "name": "stdout",
     "output_type": "stream",
     "text": [
      "4391/4391 [==============================] - 2s 490us/step - loss: 0.3383 - accuracy: 0.8469\n"
     ]
    }
   ],
   "source": [
    "test_loss, test_accuracy = model.evaluate(X_test, y_test.to_numpy())"
   ]
  },
  {
   "cell_type": "code",
   "execution_count": 24,
   "metadata": {},
   "outputs": [
    {
     "name": "stdout",
     "output_type": "stream",
     "text": [
      "Test Accuracy: 84.69%\n"
     ]
    }
   ],
   "source": [
    "print(f\"Test Accuracy: {test_accuracy*100:.2f}%\")"
   ]
  },
  {
   "cell_type": "code",
   "execution_count": 25,
   "metadata": {},
   "outputs": [
    {
     "name": "stdout",
     "output_type": "stream",
     "text": [
      "WARNING:tensorflow:From <ipython-input-25-fdaaf2360398>:1: Sequential.predict_classes (from tensorflow.python.keras.engine.sequential) is deprecated and will be removed after 2021-01-01.\n",
      "Instructions for updating:\n",
      "Please use instead:* `np.argmax(model.predict(x), axis=-1)`,   if your model does multi-class classification   (e.g. if it uses a `softmax` last-layer activation).* `(model.predict(x) > 0.5).astype(\"int32\")`,   if your model does binary classification   (e.g. if it uses a `sigmoid` last-layer activation).\n"
     ]
    }
   ],
   "source": [
    "y_pred = model.predict_classes(X_test)"
   ]
  },
  {
   "cell_type": "code",
   "execution_count": 26,
   "metadata": {},
   "outputs": [
    {
     "name": "stdout",
     "output_type": "stream",
     "text": [
      "[[0]\n",
      " [0]\n",
      " [1]\n",
      " ...\n",
      " [0]\n",
      " [0]\n",
      " [0]]\n"
     ]
    }
   ],
   "source": [
    "print(y_pred)"
   ]
  },
  {
   "cell_type": "code",
   "execution_count": 27,
   "metadata": {},
   "outputs": [
    {
     "name": "stdout",
     "output_type": "stream",
     "text": [
      "201588    0\n",
      "96037     0\n",
      "605412    0\n",
      "282369    0\n",
      "77909     0\n",
      "         ..\n",
      "196647    0\n",
      "509325    0\n",
      "699465    0\n",
      "586449    0\n",
      "698114    0\n",
      "Name: Dishwasher, Length: 140500, dtype: int32\n"
     ]
    }
   ],
   "source": [
    "print(y_test)"
   ]
  },
  {
   "cell_type": "code",
   "execution_count": 28,
   "metadata": {},
   "outputs": [],
   "source": [
    "y_test = y_test.to_numpy()"
   ]
  },
  {
   "cell_type": "code",
   "execution_count": 29,
   "metadata": {},
   "outputs": [
    {
     "name": "stdout",
     "output_type": "stream",
     "text": [
      "y_pred[0]: [0]\n",
      "y_test[0]: 0\n"
     ]
    }
   ],
   "source": [
    "index = 0\n",
    "print(f\"y_pred[{index}]: {y_pred[index]}\") \n",
    "print(f\"y_test[{index}]: {y_test[index]}\")"
   ]
  },
  {
   "cell_type": "markdown",
   "metadata": {},
   "source": [
    "# confusion matrix"
   ]
  },
  {
   "cell_type": "code",
   "execution_count": 30,
   "metadata": {},
   "outputs": [
    {
     "name": "stdout",
     "output_type": "stream",
     "text": [
      "[[111091  20935]\n",
      " [   578   7896]]\n"
     ]
    }
   ],
   "source": [
    "cm = confusion_matrix(y_test, y_pred)\n",
    "print(cm)"
   ]
  },
  {
   "cell_type": "code",
   "execution_count": 31,
   "metadata": {},
   "outputs": [
    {
     "name": "stdout",
     "output_type": "stream",
     "text": [
      "Accuracy of Confusion Matrix: 84.69%\n"
     ]
    }
   ],
   "source": [
    "# calculate accuracy based on confusion matrix\n",
    "acc_cm = accuracy_score(y_test, y_pred)\n",
    "print(f\"Accuracy of Confusion Matrix: {acc_cm*100:.2f}%\")"
   ]
  },
  {
   "cell_type": "markdown",
   "metadata": {},
   "source": [
    "# Classification Report"
   ]
  },
  {
   "cell_type": "code",
   "execution_count": 32,
   "metadata": {},
   "outputs": [
    {
     "name": "stdout",
     "output_type": "stream",
     "text": [
      "Precision score: 0.27387187402448754\n"
     ]
    }
   ],
   "source": [
    "from sklearn.metrics import precision_score\n",
    "\n",
    "print(\"Precision score: {}\".format(precision_score(y_test,y_pred)))"
   ]
  },
  {
   "cell_type": "code",
   "execution_count": 33,
   "metadata": {},
   "outputs": [
    {
     "name": "stdout",
     "output_type": "stream",
     "text": [
      "              precision    recall  f1-score   support\n",
      "\n",
      "           0       0.99      0.84      0.91    132026\n",
      "           1       0.27      0.93      0.42      8474\n",
      "\n",
      "    accuracy                           0.85    140500\n",
      "   macro avg       0.63      0.89      0.67    140500\n",
      "weighted avg       0.95      0.85      0.88    140500\n",
      "\n"
     ]
    },
    {
     "data": {
      "image/png": "[encoded data removed]",
      "text/plain": [
       "<Figure size 360x360 with 2 Axes>"
      ]
     },
     "metadata": {
      "image/png": {
       "height": 343,
       "width": 363
      },
      "needs_background": "light"
     },
     "output_type": "display_data"
    }
   ],
   "source": [
    "import numpy as np\n",
    "import matplotlib as mpl\n",
    "import matplotlib.pyplot as plt\n",
    "import seaborn as sns\n",
    "from sklearn.metrics import (classification_report,\n",
    "                             confusion_matrix,\n",
    "                             roc_auc_score)\n",
    "%matplotlib inline\n",
    "%config InlineBackend.figure_format = 'retina'\n",
    "  \n",
    "report = classification_report(y_test, y_pred)\n",
    "print(report)\n",
    "  \n",
    "def plot_cm(labels, predictions, p=0.5):\n",
    "    cm = confusion_matrix(labels, predictions)\n",
    "    plt.figure(figsize=(5, 5))\n",
    "    sns.heatmap(cm, annot=True, fmt=\"d\")\n",
    "    plt.title(\"Confusion matrix (non-normalized))\")\n",
    "    plt.ylabel(\"Actual label\")\n",
    "    plt.xlabel(\"Predicted label\")\n",
    "  \n",
    "plot_cm(y_test, y_pred)"
   ]
  },
  {
   "cell_type": "code",
   "execution_count": 34,
   "metadata": {},
   "outputs": [
    {
     "data": {
      "image/png": "[encoded data removed]",
      "text/plain": [
       "<Figure size 432x432 with 1 Axes>"
      ]
     },
     "metadata": {
      "image/png": {
       "height": 398,
       "width": 406
      },
      "needs_background": "light"
     },
     "output_type": "display_data"
    }
   ],
   "source": [
    "import numpy as np\n",
    "import matplotlib.pyplot as plt\n",
    "from itertools import cycle\n",
    "  \n",
    "mpl.rcParams[\"figure.figsize\"] = (6, 6)\n",
    "  \n",
    "from sklearn import svm, datasets\n",
    "from sklearn.metrics import roc_curve, auc\n",
    "from sklearn.model_selection import train_test_split\n",
    "from sklearn.preprocessing import label_binarize\n",
    "from scipy import interp\n",
    "from sklearn.metrics import roc_auc_score\n",
    "  \n",
    "# Binarize the output\n",
    "y_bin = label_binarize(y_test, classes=[0, 1])\n",
    "n_classes = 1\n",
    "  \n",
    "# Compute ROC curve and ROC area for each class\n",
    "fpr = dict()\n",
    "tpr = dict()\n",
    "roc_auc = dict()\n",
    "for i in  range(n_classes):\n",
    "    fpr[i], tpr[i], _ = roc_curve(y_test.ravel(), y_pred.ravel())\n",
    "    roc_auc[i] = auc(fpr[i], tpr[i])\n",
    "  \n",
    "# Compute micro-average ROC curve and ROC area\n",
    "fpr[\"micro\"], tpr[\"micro\"], _ = roc_curve(y_test.ravel(), y_pred.ravel())\n",
    "roc_auc[\"micro\"] = auc(fpr[\"micro\"], tpr[\"micro\"])\n",
    "  \n",
    "plt.figure()\n",
    "lw = 2\n",
    "plt.plot(fpr[0], tpr[0], color='darkorange',\n",
    "         lw=lw, label='ROC curve (area = %0.2f)' % roc_auc[0])\n",
    "plt.plot([0, 1], [0, 1], color='navy', lw=lw, linestyle='--')\n",
    "plt.xlim([0.0, 1.0])\n",
    "plt.ylim([0.0, 1.05])\n",
    "plt.xlabel('False Positive Rate')\n",
    "plt.ylabel('True Positive Rate')\n",
    "plt.title('Receiver operating characteristic')\n",
    "plt.legend(loc=\"lower right\")\n",
    "plt.show()"
   ]
  },
  {
   "cell_type": "code",
   "execution_count": null,
   "metadata": {},
   "outputs": [],
   "source": []
  }
 ],
 "metadata": {
  "kernelspec": {
   "display_name": "Python 3",
   "language": "python",
   "name": "python3"
  },
  "language_info": {
   "codemirror_mode": {
    "name": "ipython",
    "version": 3
   },
   "file_extension": ".py",
   "mimetype": "text/x-python",
   "name": "python",
   "nbconvert_exporter": "python",
   "pygments_lexer": "ipython3",
   "version": "3.8.3"
  }
 },
 "nbformat": 4,
 "nbformat_minor": 4
}
